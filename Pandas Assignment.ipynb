{
 "cells": [
  {
   "cell_type": "markdown",
   "id": "6ea9ea33",
   "metadata": {},
   "source": [
    "# Assignment - 1"
   ]
  },
  {
   "cell_type": "markdown",
   "id": "76d0a7ac",
   "metadata": {},
   "source": [
    "### Import the necessary libraries"
   ]
  },
  {
   "cell_type": "code",
   "execution_count": 1,
   "id": "9979a7d5",
   "metadata": {},
   "outputs": [],
   "source": [
    "import pandas as pd"
   ]
  },
  {
   "cell_type": "code",
   "execution_count": 2,
   "id": "7e445fdc",
   "metadata": {},
   "outputs": [
    {
     "data": {
      "text/html": [
       "<div>\n",
       "<style scoped>\n",
       "    .dataframe tbody tr th:only-of-type {\n",
       "        vertical-align: middle;\n",
       "    }\n",
       "\n",
       "    .dataframe tbody tr th {\n",
       "        vertical-align: top;\n",
       "    }\n",
       "\n",
       "    .dataframe thead th {\n",
       "        text-align: right;\n",
       "    }\n",
       "</style>\n",
       "<table border=\"1\" class=\"dataframe\">\n",
       "  <thead>\n",
       "    <tr style=\"text-align: right;\">\n",
       "      <th></th>\n",
       "    </tr>\n",
       "    <tr>\n",
       "      <th>user_id|age|gender|occupation|zip_code</th>\n",
       "    </tr>\n",
       "  </thead>\n",
       "  <tbody>\n",
       "    <tr>\n",
       "      <th>1|24|M|technician|85711</th>\n",
       "    </tr>\n",
       "    <tr>\n",
       "      <th>2|53|F|other|94043</th>\n",
       "    </tr>\n",
       "    <tr>\n",
       "      <th>3|23|M|writer|32067</th>\n",
       "    </tr>\n",
       "    <tr>\n",
       "      <th>4|24|M|technician|43537</th>\n",
       "    </tr>\n",
       "    <tr>\n",
       "      <th>5|33|F|other|15213</th>\n",
       "    </tr>\n",
       "    <tr>\n",
       "      <th>...</th>\n",
       "    </tr>\n",
       "    <tr>\n",
       "      <th>939|26|F|student|33319</th>\n",
       "    </tr>\n",
       "    <tr>\n",
       "      <th>940|32|M|administrator|02215</th>\n",
       "    </tr>\n",
       "    <tr>\n",
       "      <th>941|20|M|student|97229</th>\n",
       "    </tr>\n",
       "    <tr>\n",
       "      <th>942|48|F|librarian|78209</th>\n",
       "    </tr>\n",
       "    <tr>\n",
       "      <th>943|22|M|student|77841</th>\n",
       "    </tr>\n",
       "  </tbody>\n",
       "</table>\n",
       "<p>943 rows × 0 columns</p>\n",
       "</div>"
      ],
      "text/plain": [
       "Empty DataFrame\n",
       "Columns: []\n",
       "Index: [1|24|M|technician|85711, 2|53|F|other|94043, 3|23|M|writer|32067, 4|24|M|technician|43537, 5|33|F|other|15213, 6|42|M|executive|98101, 7|57|M|administrator|91344, 8|36|M|administrator|05201, 9|29|M|student|01002, 10|53|M|lawyer|90703, 11|39|F|other|30329, 12|28|F|other|06405, 13|47|M|educator|29206, 14|45|M|scientist|55106, 15|49|F|educator|97301, 16|21|M|entertainment|10309, 17|30|M|programmer|06355, 18|35|F|other|37212, 19|40|M|librarian|02138, 20|42|F|homemaker|95660, 21|26|M|writer|30068, 22|25|M|writer|40206, 23|30|F|artist|48197, 24|21|F|artist|94533, 25|39|M|engineer|55107, 26|49|M|engineer|21044, 27|40|F|librarian|30030, 28|32|M|writer|55369, 29|41|M|programmer|94043, 30|7|M|student|55436, 31|24|M|artist|10003, 32|28|F|student|78741, 33|23|M|student|27510, 34|38|F|administrator|42141, 35|20|F|homemaker|42459, 36|19|F|student|93117, 37|23|M|student|55105, 38|28|F|other|54467, 39|41|M|entertainment|01040, 40|38|M|scientist|27514, 41|33|M|engineer|80525, 42|30|M|administrator|17870, 43|29|F|librarian|20854, 44|26|M|technician|46260, 45|29|M|programmer|50233, 46|27|F|marketing|46538, 47|53|M|marketing|07102, 48|45|M|administrator|12550, 49|23|F|student|76111, 50|21|M|writer|52245, 51|28|M|educator|16509, 52|18|F|student|55105, 53|26|M|programmer|55414, 54|22|M|executive|66315, 55|37|M|programmer|01331, 56|25|M|librarian|46260, 57|16|M|none|84010, 58|27|M|programmer|52246, 59|49|M|educator|08403, 60|50|M|healthcare|06472, 61|36|M|engineer|30040, 62|27|F|administrator|97214, 63|31|M|marketing|75240, 64|32|M|educator|43202, 65|51|F|educator|48118, 66|23|M|student|80521, 67|17|M|student|60402, 68|19|M|student|22904, 69|24|M|engineer|55337, 70|27|M|engineer|60067, 71|39|M|scientist|98034, 72|48|F|administrator|73034, 73|24|M|student|41850, 74|39|M|scientist|T8H1N, 75|24|M|entertainment|08816, 76|20|M|student|02215, 77|30|M|technician|29379, 78|26|M|administrator|61801, 79|39|F|administrator|03755, 80|34|F|administrator|52241, 81|21|M|student|21218, 82|50|M|programmer|22902, 83|40|M|other|44133, 84|32|M|executive|55369, 85|51|M|educator|20003, 86|26|M|administrator|46005, 87|47|M|administrator|89503, 88|49|F|librarian|11701, 89|43|F|administrator|68106, 90|60|M|educator|78155, 91|55|M|marketing|01913, 92|32|M|entertainment|80525, 93|48|M|executive|23112, 94|26|M|student|71457, 95|31|M|administrator|10707, 96|25|F|artist|75206, 97|43|M|artist|98006, 98|49|F|executive|90291, 99|20|M|student|63129, 100|36|M|executive|90254, ...]\n",
       "\n",
       "[943 rows x 0 columns]"
      ]
     },
     "execution_count": 2,
     "metadata": {},
     "output_type": "execute_result"
    }
   ],
   "source": [
    "pd.read_table('https://raw.githubusercontent.com/justmarkham/DAT8/master/data/u.user',index_col = 0)"
   ]
  },
  {
   "cell_type": "code",
   "execution_count": 3,
   "id": "4bb2b6c7",
   "metadata": {},
   "outputs": [],
   "source": [
    "users = pd.read_table('https://raw.githubusercontent.com/justmarkham/DAT8/master/data/u.user', sep='|', index_col='user_id')"
   ]
  },
  {
   "cell_type": "code",
   "execution_count": 4,
   "id": "c161728a",
   "metadata": {},
   "outputs": [
    {
     "name": "stdout",
     "output_type": "stream",
     "text": [
      "-----------------First 10 entries-----------------\n",
      "         age gender     occupation zip_code\n",
      "user_id                                    \n",
      "1         24      M     technician    85711\n",
      "2         53      F          other    94043\n",
      "3         23      M         writer    32067\n",
      "4         24      M     technician    43537\n",
      "5         33      F          other    15213\n",
      "6         42      M      executive    98101\n",
      "7         57      M  administrator    91344\n",
      "8         36      M  administrator    05201\n",
      "9         29      M        student    01002\n",
      "10        53      M         lawyer    90703\n",
      "-----------------Last 10 entries------------------\n",
      "         age gender     occupation zip_code\n",
      "user_id                                    \n",
      "934       61      M       engineer    22902\n",
      "935       42      M         doctor    66221\n",
      "936       24      M          other    32789\n",
      "937       48      M       educator    98072\n",
      "938       38      F     technician    55038\n",
      "939       26      F        student    33319\n",
      "940       32      M  administrator    02215\n",
      "941       20      M        student    97229\n",
      "942       48      F      librarian    78209\n",
      "943       22      M        student    77841\n"
     ]
    }
   ],
   "source": [
    "print('First 10 entries'.center(50,'-'))\n",
    "print(users.head(10))\n",
    "print('Last 10 entries'.center(50,'-'))\n",
    "print((users.tail(10)))"
   ]
  },
  {
   "cell_type": "code",
   "execution_count": 5,
   "id": "12060f24",
   "metadata": {},
   "outputs": [
    {
     "name": "stdout",
     "output_type": "stream",
     "text": [
      "943\n"
     ]
    }
   ],
   "source": [
    "print(users.shape[0])"
   ]
  },
  {
   "cell_type": "code",
   "execution_count": 6,
   "id": "445ace0b",
   "metadata": {},
   "outputs": [
    {
     "name": "stdout",
     "output_type": "stream",
     "text": [
      "4\n"
     ]
    }
   ],
   "source": [
    "print(users.shape[1])"
   ]
  },
  {
   "cell_type": "code",
   "execution_count": 7,
   "id": "ad489060",
   "metadata": {},
   "outputs": [
    {
     "name": "stdout",
     "output_type": "stream",
     "text": [
      "Index(['age', 'gender', 'occupation', 'zip_code'], dtype='object')\n"
     ]
    }
   ],
   "source": [
    "print(users.columns)"
   ]
  },
  {
   "cell_type": "code",
   "execution_count": 8,
   "id": "d6d4e8f9",
   "metadata": {},
   "outputs": [
    {
     "name": "stdout",
     "output_type": "stream",
     "text": [
      "Int64Index([  1,   2,   3,   4,   5,   6,   7,   8,   9,  10,\n",
      "            ...\n",
      "            934, 935, 936, 937, 938, 939, 940, 941, 942, 943],\n",
      "           dtype='int64', name='user_id', length=943)\n"
     ]
    }
   ],
   "source": [
    "print(users.index)"
   ]
  },
  {
   "cell_type": "code",
   "execution_count": 9,
   "id": "53ad012b",
   "metadata": {},
   "outputs": [
    {
     "name": "stdout",
     "output_type": "stream",
     "text": [
      "age            int64\n",
      "gender        object\n",
      "occupation    object\n",
      "zip_code      object\n",
      "dtype: object\n"
     ]
    }
   ],
   "source": [
    "print(users.dtypes)"
   ]
  },
  {
   "cell_type": "code",
   "execution_count": 10,
   "id": "392ad924",
   "metadata": {},
   "outputs": [
    {
     "name": "stdout",
     "output_type": "stream",
     "text": [
      "user_id\n",
      "1         technician\n",
      "2              other\n",
      "3             writer\n",
      "4         technician\n",
      "5              other\n",
      "           ...      \n",
      "939          student\n",
      "940    administrator\n",
      "941          student\n",
      "942        librarian\n",
      "943          student\n",
      "Name: occupation, Length: 943, dtype: object\n"
     ]
    }
   ],
   "source": [
    "print(users['occupation'])"
   ]
  },
  {
   "cell_type": "code",
   "execution_count": 11,
   "id": "c908b7c4",
   "metadata": {},
   "outputs": [
    {
     "name": "stdout",
     "output_type": "stream",
     "text": [
      "<bound method Series.unique of user_id\n",
      "1         technician\n",
      "2              other\n",
      "3             writer\n",
      "4         technician\n",
      "5              other\n",
      "           ...      \n",
      "939          student\n",
      "940    administrator\n",
      "941          student\n",
      "942        librarian\n",
      "943          student\n",
      "Name: occupation, Length: 943, dtype: object>\n"
     ]
    }
   ],
   "source": [
    "print(users['occupation'].unique)"
   ]
  },
  {
   "cell_type": "code",
   "execution_count": 12,
   "id": "1946b345",
   "metadata": {},
   "outputs": [
    {
     "name": "stdout",
     "output_type": "stream",
     "text": [
      "21\n"
     ]
    }
   ],
   "source": [
    "print(len(users['occupation'].value_counts()))"
   ]
  },
  {
   "cell_type": "code",
   "execution_count": 13,
   "id": "7d58c93d",
   "metadata": {},
   "outputs": [
    {
     "name": "stdout",
     "output_type": "stream",
     "text": [
      "0    student\n",
      "dtype: object\n"
     ]
    }
   ],
   "source": [
    "print(users['occupation'].mode())"
   ]
  },
  {
   "cell_type": "code",
   "execution_count": 14,
   "id": "ba41fca3",
   "metadata": {},
   "outputs": [
    {
     "name": "stdout",
     "output_type": "stream",
     "text": [
      "<class 'pandas.core.frame.DataFrame'>\n",
      "Int64Index: 943 entries, 1 to 943\n",
      "Data columns (total 4 columns):\n",
      " #   Column      Non-Null Count  Dtype \n",
      "---  ------      --------------  ----- \n",
      " 0   age         943 non-null    int64 \n",
      " 1   gender      943 non-null    object\n",
      " 2   occupation  943 non-null    object\n",
      " 3   zip_code    943 non-null    object\n",
      "dtypes: int64(1), object(3)\n",
      "memory usage: 36.8+ KB\n",
      "None\n"
     ]
    }
   ],
   "source": [
    "print(users.info(verbose = True))"
   ]
  },
  {
   "cell_type": "code",
   "execution_count": 15,
   "id": "06509005",
   "metadata": {},
   "outputs": [
    {
     "name": "stdout",
     "output_type": "stream",
     "text": [
      "              age\n",
      "count  943.000000\n",
      "mean    34.051962\n",
      "std     12.192740\n",
      "min      7.000000\n",
      "25%     25.000000\n",
      "50%     31.000000\n",
      "75%     43.000000\n",
      "max     73.000000\n"
     ]
    }
   ],
   "source": [
    "print(users.describe())"
   ]
  },
  {
   "cell_type": "code",
   "execution_count": 16,
   "id": "de1183c6",
   "metadata": {},
   "outputs": [
    {
     "name": "stdout",
     "output_type": "stream",
     "text": [
      "student          196\n",
      "other            105\n",
      "educator          95\n",
      "administrator     79\n",
      "engineer          67\n",
      "programmer        66\n",
      "librarian         51\n",
      "writer            45\n",
      "executive         32\n",
      "scientist         31\n",
      "artist            28\n",
      "technician        27\n",
      "marketing         26\n",
      "entertainment     18\n",
      "healthcare        16\n",
      "retired           14\n",
      "lawyer            12\n",
      "salesman          12\n",
      "none               9\n",
      "homemaker          7\n",
      "doctor             7\n",
      "Name: occupation, dtype: int64\n"
     ]
    }
   ],
   "source": [
    "print(users['occupation'].value_counts())"
   ]
  },
  {
   "cell_type": "code",
   "execution_count": 17,
   "id": "2dc2743d",
   "metadata": {},
   "outputs": [
    {
     "name": "stdout",
     "output_type": "stream",
     "text": [
      "34.05196182396607\n"
     ]
    }
   ],
   "source": [
    "print(users['age'].mean())"
   ]
  },
  {
   "cell_type": "code",
   "execution_count": 18,
   "id": "b5e3416a",
   "metadata": {},
   "outputs": [
    {
     "name": "stdout",
     "output_type": "stream",
     "text": [
      "7\n"
     ]
    }
   ],
   "source": [
    "print(users['age'].min())"
   ]
  },
  {
   "cell_type": "code",
   "execution_count": null,
   "id": "60617140",
   "metadata": {},
   "outputs": [],
   "source": []
  }
 ],
 "metadata": {
  "kernelspec": {
   "display_name": "Python 3 (ipykernel)",
   "language": "python",
   "name": "python3"
  },
  "language_info": {
   "codemirror_mode": {
    "name": "ipython",
    "version": 3
   },
   "file_extension": ".py",
   "mimetype": "text/x-python",
   "name": "python",
   "nbconvert_exporter": "python",
   "pygments_lexer": "ipython3",
   "version": "3.10.0"
  }
 },
 "nbformat": 4,
 "nbformat_minor": 5
}
